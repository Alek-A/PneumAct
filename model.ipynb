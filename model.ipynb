{
 "cells": [
  {
   "cell_type": "markdown",
   "metadata": {},
   "source": [
    "### Pneumatic cylinder - mechanical subsystem\n",
    "The pneumatic cylinder is modelled a mass subjected to two pressures, viscous dissipation and Coulomb friction.  \n",
    "$$ (m_p + m_L)\\ddot{x} + c_p \\dot{x} = F_L + p_1 A_1 -p_2 A_2 -p_A A_r -F_f(\\dot{x})$$  \n",
    "Where $m_p$ and $m_L$ are the masses of the piston-rod and load, $c_p$ is the viscous damping coefficient, $F_L$ is the load force, $p_1, A_1$ is the pressure and area on the retraction side, $p_2, A_2$ is for the extension side, $p_A, A_r$ is the surrounding pressure and rod area and $F_f$ is the Coulomb friction given by  \n",
    "$$\n",
    "F_f = \\left\\{ \\begin{array}{cl}\n",
    "F_{sf} & \\text{if } \\dot{x} = 0 \\\\\n",
    "F_{df}\\operatorname{sgn}(\\dot{x}) & \\text{if } \\dot{x} \\neq 0\n",
    "\\end{array}\\right.\n",
    "$$\n",
    "\n",
    "In first-order form the system can be written as\n",
    "$$\n",
    "\\dot{x}_1 = x_2 \\\\\n",
    "\\dot{x}_2 = \\frac{1}{m_p+m_L}\\left( F_L + p_1 A_1 -p_2 A_2 -p_A A_r -F_f(\\dot{x}_2) - c_p \\dot{x}_2 \\right)\n",
    "$$  \n",
    "It can be seen that the mechanical subsystem is coupled to the pneumatic subsystem through the pressure states $p_1$ and $p_2$.\n",
    "### Pneumatic cylinder - pneumatic subsystem\n"
   ]
  },
  {
   "cell_type": "markdown",
   "metadata": {},
   "source": [
    "The volume of air is modelled by using the ideal gas equation, continuity (mass conservation) and the energy equation.  \n",
    "$$ p = \\rho R T \\\\\n",
    "\\dot{m} = \\frac{\\text{d}}{\\text{d}t} \\left( \\rho V \\right ) \\\\\n",
    "q_{in} - q_{out} + k C_v \\left( \\dot{m}_{in} T_{in} - \\dot{m}_{out} T_{out} \\right)- \\dot{W} = \\dot{U} \n",
    "$$\n",
    "The rate of change of work is rate of change of volume at constant pressure\n",
    "$$ \\dot{W} = p\\dot{V} $$  \n",
    "\n",
    "Combining these equations, using the ideal gas relation $C_v = R/(k-1)$ and assuming $T_{in}=T_{out}$ we get the equation\n",
    "$$\n",
    "\\frac{k-1}{k}(q_{in} - q_{out}) + \\frac{1}{\\rho}(\\dot{m}_{in} - \\dot{m}_{out}) -\\dot{V} =  \\frac{V}{k p} \\dot{p}\n",
    "$$\n",
    "\n",
    "We can assume an adiabatic process ($q_{in}-q_{out}=0$) or isothermal ($T=\\text{constant}$) and get\n",
    "$$\n",
    "\\text{Adiabatic: } \\dot{p} = k\\frac{R T}{V}(\\dot{m}_{in} - \\dot{m}_{out}) - k\\frac{p}{V}\\dot{V} \\\\\n",
    "\\text{Isothermal: } \\dot{p} = \\frac{R T}{V}(\\dot{m}_{in} - \\dot{m}_{out}) - \\frac{p}{V}\\dot{V} \\\\\n",
    "$$\n",
    "As the only difference is the specific heat ratio $k$ we can make a model such as\n",
    "$$\n",
    "\\dot{p} = \\frac{R T}{V}(\\alpha_{in}\\dot{m}_{in} - \\alpha_{out}\\dot{m}_{out}) - \\alpha \\frac{p}{V}\\dot{V} \\\\\n",
    "$$\n",
    "where the three coefficients $\\alpha \\in [1, k]$ represent the heat transfer characteristics.  \n",
    "For charging: $\\alpha_{in}=k$. For discharging $\\alpha_{out}= 1 $. The compression/expansion due to the piston motion is best described by $\\alpha = 1.2$"
   ]
  },
  {
   "cell_type": "markdown",
   "metadata": {},
   "source": []
  },
  {
   "cell_type": "code",
   "execution_count": 1,
   "metadata": {},
   "outputs": [],
   "source": [
    "class plant(object):\n",
    "    def __init__(self, **kwargs):\n",
    "        self.__dict__.update(kwargs)"
   ]
  },
  {
   "cell_type": "markdown",
   "metadata": {},
   "source": [
    "### Connecting tubes\n",
    "The dynamics of the flow in the connecting tubes can be described by a dispersive hyperbolic PDE.  \n",
    "Neglecting the higher order dynamics the equation reduces to a 1D wave equation. The effect of the tubes are therefore a time delay $\\tau = L_t/c$ for the pressure to reach the end, and an attenatuation of the pressure due to friction $\\phi = e^{-R_t \\tau \\frac{R T}{2 p}}$  \n",
    "where $p$ is the end pressure. The tube resistance $R_t$ can be estimated for a laminar or fully turbulent flow as\n",
    "$$\n",
    "R_t = \\left\\{\\begin{array}{cl} \n",
    "\\frac{32\\mu}{D^2} & \\text{Laminar} \\\\\n",
    "0.158 \\frac{\\mu}{D^2} \\operatorname{Re}^{3/4}  & \\text{Turbulent}\n",
    "\\end{array}\\right.\n",
    "$$ \n",
    "With $h(t)$ begin the mass flow at the inlet of the tube, the mass flow at the outlet is\n",
    "$$\n",
    "\\dot{m}_t(L_t,t) = \\left\\{\\begin{array}{cl} \n",
    "0 & \\text{if } t < \\tau \\\\\n",
    "\\phi(R_t) \\, h \\left( t-\\frac{L_t}{c}\\right) & \\text{if } t > \\tau\n",
    "\\end{array}\\right.\n",
    "$$ "
   ]
  },
  {
   "cell_type": "markdown",
   "metadata": {},
   "source": [
    "### Valve model\n",
    "This model has a spring at both sides so the rest position is in the middle.\n",
    "$$\n",
    "M_s\\ddot{x}_s + c_s \\dot{x}_s +F_f +2 k_s x_s = F_c\n",
    "$$\n",
    "In the case of current control: $F_c = K_{fc} i_c$.\n",
    "\n",
    "The Festo MPYE valve is voltage controlled between 0-10 V. It may have have a resting position at the side, so it requires a bias voltage. It can probably be modelled as\n",
    "$$\n",
    "M_s\\ddot{x}_v = -c_s \\dot{x}_s -k_s(x_s +x_{s0}) + F_c -F_f\n",
    "$$\n",
    "The equilibrium is $F_{c} = k_s (x_{v0} + x_{s0}) $  \n",
    "\n",
    "$$\n",
    "M_v\\ddot{x}_v = -c_v \\dot{x}_v -k_s(x_v -x_{s0}) + F_v -F_f\n",
    "$$\n"
   ]
  },
  {
   "cell_type": "markdown",
   "metadata": {},
   "source": [
    "### Valve orifice area\n",
    "The valve position $x_v$ (relative to middle) controls the orifice area. In turn, the orifice area and pressures govern the flow rate through the valve. A model is\n",
    "$$\n",
    "\\dot{m}_v = \\left\\{\\begin{array}{cl}\n",
    "C_f A_v C_1\\frac{P_u}{\\sqrt{T}} & \\text{if } \\frac{P_d}{P_u} \\leq P_{cr}\\\\\n",
    "C_f A_v C_2\\frac{P_u}{\\sqrt{T}} \\left(\\frac{P_d}{P_u} \\right)^{1/k} \\sqrt{1 -\\left(\\frac{P_d}{P_u} \\right)^{(k-1)/k} } & \\text{if } \\frac{P_d}{P_u} >P_{cr}\n",
    "\\end{array}\\right.\n",
    "$$\n",
    "\n",
    "The variables in this equation are the valve orifice area $A_v$ and one of the pressures (supply pressure is about constant).  \n",
    "$C_1$, $C_2$ only depend on $R$ and $k$, and $P_{cr}$ only on $k$. $P_{cr}$ indicates when the flow is choked or unchoked."
   ]
  },
  {
   "cell_type": "code",
   "execution_count": 5,
   "metadata": {},
   "outputs": [
    {
     "name": "stdout",
     "output_type": "stream",
     "text": [
      "C1 =  0.04041433642177708\n",
      "C2 =  0.1561579836560165\n",
      "Pcr =  0.5282817877171742\n"
     ]
    }
   ],
   "source": [
    "import numpy as np\n",
    "Rs = 287.058 # J/kg.K specific gas constant\n",
    "k = 1.4\n",
    "C1 = np.sqrt(k/Rs *(2/(k+1))**((k+1)/(k-1))); print('C1 = ',C1)\n",
    "C2 = np.sqrt(2*k/Rs/(k-1)); print('C2 = ',C2)\n",
    "Pcr = (2/(k+1))**(k/(k-1)); print('Pcr = ',Pcr)"
   ]
  },
  {
   "cell_type": "code",
   "execution_count": null,
   "metadata": {},
   "outputs": [],
   "source": []
  }
 ],
 "metadata": {
  "kernelspec": {
   "display_name": "Python 3",
   "language": "python",
   "name": "python3"
  },
  "language_info": {
   "codemirror_mode": {
    "name": "ipython",
    "version": 3
   },
   "file_extension": ".py",
   "mimetype": "text/x-python",
   "name": "python",
   "nbconvert_exporter": "python",
   "pygments_lexer": "ipython3",
   "version": "3.7.1"
  }
 },
 "nbformat": 4,
 "nbformat_minor": 2
}
